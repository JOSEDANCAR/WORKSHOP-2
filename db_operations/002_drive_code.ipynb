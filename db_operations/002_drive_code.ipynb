{
 "cells": [
  {
   "cell_type": "code",
   "execution_count": 1,
   "metadata": {},
   "outputs": [
    {
     "name": "stderr",
     "output_type": "stream",
     "text": [
      "/tmp/ipykernel_13481/1317341092.py:29: UserWarning: pandas only supports SQLAlchemy connectable (engine/connection) or database string URI or sqlite3 DBAPI2 connection. Other DBAPI2 objects are not tested. Please consider using SQLAlchemy.\n",
      "  df = pd.read_sql(query, connection)\n"
     ]
    }
   ],
   "source": [
    "import mysql.connector\n",
    "import pandas as pd\n",
    "import logging\n",
    "\n",
    "# Conectar a MySQL\n",
    "def conectar_mysql():\n",
    "    try:\n",
    "        connection = mysql.connector.connect(\n",
    "            host='localhost',\n",
    "            user='root',\n",
    "            password='root',  \n",
    "            database='spotify_grammy_db'\n",
    "        )\n",
    "        logging.info(\"Conexión a MySQL exitosa\")\n",
    "        return connection\n",
    "    except mysql.connector.Error as err:\n",
    "        logging.error(f\"Error al conectar a MySQL: {err}\")\n",
    "        raise\n",
    "\n",
    "# Exportar la tabla a CSV\n",
    "def export_table_to_csv():\n",
    "    logging.info(\"Iniciando la exportación a CSV\")\n",
    "    connection = conectar_mysql()\n",
    "\n",
    "    try:\n",
    "        query = \"SELECT * FROM Spotify_Grrammy_Merge\"\n",
    "        \n",
    "        # Leer los datos de MySQL a un DataFrame de Pandas\n",
    "        df = pd.read_sql(query, connection)\n",
    "        \n",
    "        # Exportar el DataFrame a un archivo CSV\n",
    "        df.to_csv('Spotify_Grrammy_Merge.csv', index=False)\n",
    "        logging.info(\"Tabla exportada exitosamente a Spotify_Grrammy_Merge.csv\")\n",
    "    \n",
    "    except Exception as e:\n",
    "        logging.error(f\"Error durante la exportación: {str(e)}\")\n",
    "    \n",
    "    finally:\n",
    "        connection.close()\n",
    "        logging.info(\"Conexión cerrada\")\n",
    "\n",
    "# Ejecutar la función de exportación\n",
    "export_table_to_csv()\n"
   ]
  }
 ],
 "metadata": {
  "kernelspec": {
   "display_name": "Python 3",
   "language": "python",
   "name": "python3"
  },
  "language_info": {
   "codemirror_mode": {
    "name": "ipython",
    "version": 3
   },
   "file_extension": ".py",
   "mimetype": "text/x-python",
   "name": "python",
   "nbconvert_exporter": "python",
   "pygments_lexer": "ipython3",
   "version": "3.10.12"
  }
 },
 "nbformat": 4,
 "nbformat_minor": 2
}
